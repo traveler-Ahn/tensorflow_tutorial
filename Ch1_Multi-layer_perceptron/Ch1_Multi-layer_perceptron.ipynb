{
 "cells": [
  {
   "cell_type": "markdown",
   "metadata": {},
   "source": [
    "## Ch1 Multi layer perceptron"
   ]
  },
  {
   "cell_type": "code",
   "execution_count": 10,
   "metadata": {},
   "outputs": [],
   "source": [
    "import tensorflow as tf\n",
    "import numpy as np"
   ]
  },
  {
   "cell_type": "markdown",
   "metadata": {},
   "source": [
    "### Ex.1"
   ]
  },
  {
   "cell_type": "code",
   "execution_count": 4,
   "metadata": {},
   "outputs": [],
   "source": [
    "x_data = [1,2,3]\n",
    "y_data = [1,2,3]\n",
    "\n",
    "# Placeholder\n",
    "X = tf.placeholder(tf.float32, name=\"X\")\n",
    "Y = tf.placeholder(tf.float32, name=\"Y\")\n",
    "\n",
    "# Variable\n",
    "W = tf.Variable(tf.random_uniform([1], -1.0, 1.0))\n",
    "b = tf.Variable(tf.random_uniform([1], -1.0, 1.0))\n",
    "\n",
    "# Hypothesis\n",
    "hypothesis = W * X + b\n",
    "\n",
    "# Cost (RMS) & optimizer\n",
    "cost = tf.reduce_mean(tf.square(hypothesis - Y))\n",
    "optimizer = tf.train.GradientDescentOptimizer(learning_rate=0.1)\n",
    "train_op = optimizer.minimize(cost)"
   ]
  },
  {
   "cell_type": "code",
   "execution_count": 8,
   "metadata": {
    "scrolled": true
   },
   "outputs": [
    {
     "name": "stdout",
     "output_type": "stream",
     "text": [
      "0 0.48942924 [0.67671835] [0.66008174]\n",
      "1 0.06985671 [0.71441513] [0.657378]\n",
      "2 0.06180435 [0.71800977] [0.64013636]\n",
      "3 0.05881207 [0.7251461] [0.62490517]\n",
      "4 0.056017756 [0.7317143] [0.60986567]\n",
      "5 0.05335683 [0.73816806] [0.5952068]\n",
      "6 0.050822366 [0.74446183] [0.5808982]\n",
      "7 0.04840825 [0.7506048] [0.5669338]\n",
      "8 0.04610883 [0.75660014] [0.55330515]\n",
      "9 0.043918636 [0.7624513] [0.5400041]\n",
      "10 0.041832466 [0.7681618] [0.5270227]\n",
      "11 0.03984538 [0.773735] [0.51435345]\n",
      "12 0.037952702 [0.77917427] [0.50198877]\n",
      "13 0.036149934 [0.78448284] [0.48992133]\n",
      "14 0.034432787 [0.7896637] [0.47814393]\n",
      "15 0.032797206 [0.79472005] [0.46664968]\n",
      "16 0.031239301 [0.7996548] [0.45543173]\n",
      "17 0.02975542 [0.80447096] [0.44448346]\n",
      "18 0.028342003 [0.8091714] [0.4337984]\n",
      "19 0.02699575 [0.81375873] [0.42337018]\n",
      "20 0.02571345 [0.8182359] [0.41319266]\n",
      "21 0.02449201 [0.8226053] [0.40325975]\n",
      "22 0.023328647 [0.8268698] [0.39356568]\n",
      "23 0.022220507 [0.8310317] [0.3841046]\n",
      "24 0.021165006 [0.8350936] [0.37487102]\n",
      "25 0.020159647 [0.8390578] [0.36585936]\n",
      "26 0.019202076 [0.8429268] [0.3570644]\n",
      "27 0.018289939 [0.8467027] [0.3484808]\n",
      "28 0.01742116 [0.8503879] [0.34010357]\n",
      "29 0.016593633 [0.8539844] [0.3319277]\n",
      "30 0.015805425 [0.85749453] [0.32394838]\n",
      "31 0.015054678 [0.86092025] [0.3161609]\n",
      "32 0.014339545 [0.86426365] [0.3085606]\n",
      "33 0.013658409 [0.86752665] [0.30114302]\n",
      "34 0.013009633 [0.87071127] [0.29390377]\n",
      "35 0.012391664 [0.87381923] [0.2868385]\n",
      "36 0.011803062 [0.8768526] [0.2799431]\n",
      "37 0.011242393 [0.8798129] [0.27321345]\n",
      "38 0.010708384 [0.8827022] [0.2666456]\n",
      "39 0.010199712 [0.8855219] [0.2602356]\n",
      "40 0.009715221 [0.8882739] [0.25397974]\n",
      "41 0.009253752 [0.89095974] [0.24787425]\n",
      "42 0.008814186 [0.893581] [0.2419155]\n",
      "43 0.008395507 [0.8961392] [0.23609999]\n",
      "44 0.007996713 [0.8986359] [0.2304243]\n",
      "45 0.0076168566 [0.9010726] [0.22488506]\n",
      "46 0.007255055 [0.9034508] [0.219479]\n",
      "47 0.00691043 [0.90577173] [0.21420287]\n",
      "48 0.0065821856 [0.90803695] [0.20905359]\n",
      "49 0.0062695313 [0.91024774] [0.2040281]\n",
      "50 0.0059717153 [0.9124053] [0.1991234]\n",
      "51 0.00568806 [0.91451097] [0.19433658]\n",
      "52 0.005417865 [0.9165661] [0.18966487]\n",
      "53 0.0051605245 [0.91857177] [0.18510546]\n",
      "54 0.0049153855 [0.92052925] [0.18065564]\n",
      "55 0.004681904 [0.9224397] [0.17631282]\n",
      "56 0.0044595026 [0.9243041] [0.17207436]\n",
      "57 0.0042476743 [0.92612386] [0.16793784]\n",
      "58 0.004045917 [0.92789984] [0.16390075]\n",
      "59 0.003853726 [0.92963296] [0.15996066]\n",
      "60 0.0036706713 [0.9313246] [0.15611534]\n",
      "61 0.003496309 [0.9329755] [0.15236244]\n",
      "62 0.0033302417 [0.93458676] [0.14869978]\n",
      "63 0.0031720486 [0.9361592] [0.14512512]\n",
      "64 0.0030213695 [0.9376939] [0.14163642]\n",
      "65 0.0028778587 [0.9391917] [0.13823158]\n",
      "66 0.0027411645 [0.9406535] [0.13490859]\n",
      "67 0.00261095 [0.94208014] [0.13166547]\n",
      "68 0.0024869244 [0.94347245] [0.12850031]\n",
      "69 0.0023687968 [0.9448314] [0.12541127]\n",
      "70 0.0022562777 [0.9461576] [0.12239647]\n",
      "71 0.0021490997 [0.9474519] [0.11945414]\n",
      "72 0.0020470137 [0.94871515] [0.11658256]\n",
      "73 0.001949784 [0.949948] [0.11377998]\n",
      "74 0.0018571663 [0.95115125] [0.11104479]\n",
      "75 0.0017689508 [0.9523255] [0.10837533]\n",
      "76 0.001684928 [0.95347154] [0.10577004]\n",
      "77 0.0016048882 [0.9545901] [0.10322742]\n",
      "78 0.0015286542 [0.95568174] [0.10074592]\n",
      "79 0.0014560455 [0.9567471] [0.09832405]\n",
      "80 0.0013868756 [0.95778686] [0.09596039]\n",
      "81 0.0013210034 [0.9588016] [0.09365356]\n",
      "82 0.0012582523 [0.959792] [0.0914022]\n",
      "83 0.0011984855 [0.96075857] [0.08920495]\n",
      "84 0.0011415564 [0.9617019] [0.08706053]\n",
      "85 0.0010873316 [0.9626226] [0.08496766]\n",
      "86 0.0010356855 [0.9635211] [0.0829251]\n",
      "87 0.0009864845 [0.964398] [0.08093163]\n",
      "88 0.0009396267 [0.96525383] [0.07898608]\n",
      "89 0.0008949935 [0.9660891] [0.07708732]\n",
      "90 0.0008524824 [0.96690434] [0.0752342]\n",
      "91 0.0008119917 [0.96769994] [0.07342563]\n",
      "92 0.0007734204 [0.9684764] [0.07166053]\n",
      "93 0.0007366789 [0.96923417] [0.06993786]\n",
      "94 0.00070168846 [0.9699738] [0.06825662]\n",
      "95 0.0006683576 [0.9706956] [0.06661578]\n",
      "96 0.00063660915 [0.9714] [0.06501435]\n",
      "97 0.0006063708 [0.97208756] [0.06345148]\n",
      "98 0.00057756744 [0.9727586] [0.06192616]\n",
      "99 0.0005501336 [0.9734134] [0.06043748]\n"
     ]
    }
   ],
   "source": [
    "# Training Phase\n",
    "#with tf.Session() as sess:\n",
    "sess = tf.Session()\n",
    "sess.run(tf.global_variables_initializer())\n",
    "\n",
    "for step in range(100):\n",
    "    _, cost_val = sess.run([train_op, cost], feed_dict={X: x_data, Y: y_data})\n",
    "\n",
    "    print(step, cost_val, sess.run(W), sess.run(b))"
   ]
  },
  {
   "cell_type": "code",
   "execution_count": 9,
   "metadata": {
    "scrolled": false
   },
   "outputs": [
    {
     "name": "stdout",
     "output_type": "stream",
     "text": [
      "X: 5, Y:  [4.9275045]\n",
      "X: 2.5, Y:  [2.4939709]\n"
     ]
    }
   ],
   "source": [
    "# Test\n",
    "print(\"X: 5, Y: \", sess.run(hypothesis, feed_dict={X: 5}))\n",
    "print(\"X: 2.5, Y: \", sess.run(hypothesis, feed_dict={X: 2.5}))\n",
    "    \n",
    "sess.close()"
   ]
  },
  {
   "cell_type": "markdown",
   "metadata": {},
   "source": [
    "### Ex.2"
   ]
  },
  {
   "cell_type": "code",
   "execution_count": 11,
   "metadata": {},
   "outputs": [],
   "source": [
    "# Data preparation\n",
    "\n",
    "x_data = np.array([\n",
    "    [0,0], [1,0], [1,1], [0,0], [0,0], [0,1]\n",
    "])\n",
    "y_data = np.array([\n",
    "    [1,0,0],\n",
    "    [0,1,0],\n",
    "    [0,0,1],\n",
    "    [1,0,0],\n",
    "    [1,0,0],\n",
    "    [0,0,1],\n",
    "])"
   ]
  },
  {
   "cell_type": "code",
   "execution_count": 16,
   "metadata": {},
   "outputs": [],
   "source": [
    "# Placeholder \n",
    "X = tf.placeholder(tf.float32, [None, 2])\n",
    "Y = tf.placeholder(tf.float32, [None, 3])\n",
    "\n",
    "# Variable\n",
    "W = tf.Variable(tf.random_uniform([2,3], -1., 1.))\n",
    "b = tf.Variable(tf.zeros([3]))\n",
    "\n",
    "# Loss\n",
    "L = tf.add(tf.matmul(X,W), b)\n",
    "L = tf.nn.relu(L)\n",
    "\n",
    "# Cost\n",
    "model = tf.nn.softmax(L)\n",
    "cost = tf.reduce_mean(-tf.reduce_sum(Y*tf.log(model), axis=1))\n",
    "\n",
    "# Optimizer\n",
    "optimizer = tf.train.GradientDescentOptimizer(learning_rate=0.01)\n",
    "train_op = optimizer.minimize(cost)"
   ]
  },
  {
   "cell_type": "code",
   "execution_count": 17,
   "metadata": {},
   "outputs": [
    {
     "name": "stdout",
     "output_type": "stream",
     "text": [
      "10 1.1477284\n",
      "20 1.1427294\n",
      "30 1.1379366\n",
      "40 1.1332898\n",
      "50 1.1288582\n",
      "60 1.1245589\n",
      "70 1.1204705\n",
      "80 1.1165211\n",
      "90 1.1127042\n",
      "100 1.1090314\n"
     ]
    }
   ],
   "source": [
    "# Training phase\n",
    "sess = tf.Session()\n",
    "sess.run(tf.global_variables_initializer())\n",
    "\n",
    "for step in range(100):\n",
    "    sess.run(train_op, feed_dict={X: x_data, Y: y_data})\n",
    "    \n",
    "    if (step + 1) % 10 == 0:\n",
    "        print(step+1, sess.run(cost, feed_dict={X: x_data, Y: y_data}))       "
   ]
  },
  {
   "cell_type": "code",
   "execution_count": 18,
   "metadata": {},
   "outputs": [
    {
     "name": "stdout",
     "output_type": "stream",
     "text": [
      "예측 값:  [0 2 2 0 0 0]\n",
      "실제 값:  [0 1 2 0 0 2]\n"
     ]
    }
   ],
   "source": [
    "prediction = tf.argmax(model, axis=1)\n",
    "target = tf.argmax(Y, axis=1)\n",
    "print('예측 값: ', sess.run(prediction, feed_dict={X: x_data}))\n",
    "print('실제 값: ', sess.run(target, feed_dict={Y: y_data}))"
   ]
  },
  {
   "cell_type": "code",
   "execution_count": 22,
   "metadata": {},
   "outputs": [
    {
     "name": "stdout",
     "output_type": "stream",
     "text": [
      "정확도: 66.67\n"
     ]
    }
   ],
   "source": [
    "is_correct = tf.equal(prediction, target)\n",
    "accuracy = tf.reduce_mean(tf.cast(is_correct, tf.float32))\n",
    "print('정확도: %.2f' % sess.run(accuracy * 100, feed_dict={X: x_data, Y: y_data}))"
   ]
  },
  {
   "cell_type": "code",
   "execution_count": 23,
   "metadata": {},
   "outputs": [],
   "source": [
    "sess.close()"
   ]
  },
  {
   "cell_type": "markdown",
   "metadata": {},
   "source": [
    "### Ex.3 More deeper than ex.2"
   ]
  },
  {
   "cell_type": "code",
   "execution_count": 24,
   "metadata": {},
   "outputs": [],
   "source": [
    "# Data preparation\n",
    "\n",
    "x_data = np.array([\n",
    "    [0,0], [1,0], [1,1], [0,0], [0,0], [0,1]\n",
    "])\n",
    "y_data = np.array([\n",
    "    [1,0,0],\n",
    "    [0,1,0],\n",
    "    [0,0,1],\n",
    "    [1,0,0],\n",
    "    [1,0,0],\n",
    "    [0,0,1],\n",
    "])"
   ]
  },
  {
   "cell_type": "code",
   "execution_count": 27,
   "metadata": {},
   "outputs": [],
   "source": [
    "# Placeholder \n",
    "X = tf.placeholder(tf.float32, [None, 2])\n",
    "Y = tf.placeholder(tf.float32, [None, 3])\n",
    "\n",
    "# Variable\n",
    "W1 = tf.Variable(tf.random_uniform([2,10], -1., 1.))\n",
    "b1 = tf.Variable(tf.zeros([10]))\n",
    "\n",
    "W2 = tf.Variable(tf.random_uniform([10,3], -1., 1.))\n",
    "b2 = tf.Variable(tf.zeros([3]))\n",
    "\n",
    "# Loss\n",
    "L1 = tf.add(tf.matmul(X,W1), b1)\n",
    "L1 = tf.nn.relu(L1)\n",
    "\n",
    "# Cost\n",
    "logits = tf.add(tf.matmul(L1,W2), b2)\n",
    "cost = tf.reduce_mean(tf.nn.softmax_cross_entropy_with_logits_v2(labels=Y, logits=logits))\n",
    "\n",
    "# Optimizer\n",
    "optimizer = tf.train.GradientDescentOptimizer(learning_rate=0.01)\n",
    "train_op = optimizer.minimize(cost)"
   ]
  },
  {
   "cell_type": "code",
   "execution_count": 28,
   "metadata": {},
   "outputs": [
    {
     "name": "stdout",
     "output_type": "stream",
     "text": [
      "10 1.2115687\n",
      "20 1.1780648\n",
      "30 1.1487331\n",
      "40 1.1211877\n",
      "50 1.0950718\n",
      "60 1.0701938\n",
      "70 1.0464278\n",
      "80 1.0248119\n",
      "90 1.0060588\n",
      "100 0.987839\n"
     ]
    }
   ],
   "source": [
    "# Training phase\n",
    "sess = tf.Session()\n",
    "sess.run(tf.global_variables_initializer())\n",
    "\n",
    "for step in range(100):\n",
    "    sess.run(train_op, feed_dict={X: x_data, Y: y_data})\n",
    "    \n",
    "    if (step + 1) % 10 == 0:\n",
    "        print(step+1, sess.run(cost, feed_dict={X: x_data, Y: y_data}))    "
   ]
  },
  {
   "cell_type": "code",
   "execution_count": 30,
   "metadata": {},
   "outputs": [
    {
     "name": "stdout",
     "output_type": "stream",
     "text": [
      "예측 값:  [0 2 2 0 0 2]\n",
      "실제 값:  [0 1 2 0 0 2]\n"
     ]
    }
   ],
   "source": [
    "prediction = tf.argmax(logits, axis=1)\n",
    "target = tf.argmax(Y, axis=1)\n",
    "print('예측 값: ', sess.run(prediction, feed_dict={X: x_data}))\n",
    "print('실제 값: ', sess.run(target, feed_dict={Y: y_data}))"
   ]
  },
  {
   "cell_type": "code",
   "execution_count": 31,
   "metadata": {},
   "outputs": [
    {
     "name": "stdout",
     "output_type": "stream",
     "text": [
      "정확도: 83.33\n"
     ]
    }
   ],
   "source": [
    "is_correct = tf.equal(prediction, target)\n",
    "accuracy = tf.reduce_mean(tf.cast(is_correct, tf.float32))\n",
    "print('정확도: %.2f' % sess.run(accuracy * 100, feed_dict={X: x_data, Y: y_data}))"
   ]
  },
  {
   "cell_type": "code",
   "execution_count": 32,
   "metadata": {},
   "outputs": [],
   "source": [
    "sess.close()"
   ]
  },
  {
   "cell_type": "code",
   "execution_count": null,
   "metadata": {},
   "outputs": [],
   "source": []
  }
 ],
 "metadata": {
  "kernelspec": {
   "display_name": "Python 3",
   "language": "python",
   "name": "python3"
  },
  "language_info": {
   "codemirror_mode": {
    "name": "ipython",
    "version": 3
   },
   "file_extension": ".py",
   "mimetype": "text/x-python",
   "name": "python",
   "nbconvert_exporter": "python",
   "pygments_lexer": "ipython3",
   "version": "3.7.3"
  }
 },
 "nbformat": 4,
 "nbformat_minor": 2
}
